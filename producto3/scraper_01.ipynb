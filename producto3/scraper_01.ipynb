{
 "cells": [
  {
   "cell_type": "code",
   "execution_count": 40,
   "id": "113ee2e7-da0f-4d5b-ae24-a181738ab52d",
   "metadata": {},
   "outputs": [],
   "source": [
    "#Funcion para capturar los objetos por etiqueta y clase\n",
    "def buscar_issues_clase(html, clase):\n",
    "    soup = BeautifulSoup(html, \"html.parser\")\n",
    "    return soup.find_all(content= re.compile(clase +\"$\"))\n",
    " "
   ]
  },
  {
   "cell_type": "code",
   "execution_count": null,
   "id": "a4b7a854-69a2-4956-9d40-64f0528e8ef2",
   "metadata": {},
   "outputs": [
    {
     "name": "stderr",
     "output_type": "stream",
     "text": [
      "C:\\Users\\carlo\\AppData\\Local\\Temp\\ipykernel_17328\\3488944609.py:46: FutureWarning: The frame.append method is deprecated and will be removed from pandas in a future version. Use pandas.concat instead.\n",
      "  df = df.append(\n",
      "C:\\Users\\carlo\\AppData\\Local\\Temp\\ipykernel_17328\\3488944609.py:46: FutureWarning: The frame.append method is deprecated and will be removed from pandas in a future version. Use pandas.concat instead.\n",
      "  df = df.append(\n",
      "C:\\Users\\carlo\\AppData\\Local\\Temp\\ipykernel_17328\\3488944609.py:46: FutureWarning: The frame.append method is deprecated and will be removed from pandas in a future version. Use pandas.concat instead.\n",
      "  df = df.append(\n"
     ]
    },
    {
     "name": "stdout",
     "output_type": "stream",
     "text": [
      "3no es issue\n"
     ]
    },
    {
     "name": "stderr",
     "output_type": "stream",
     "text": [
      "C:\\Users\\carlo\\AppData\\Local\\Temp\\ipykernel_17328\\3488944609.py:46: FutureWarning: The frame.append method is deprecated and will be removed from pandas in a future version. Use pandas.concat instead.\n",
      "  df = df.append(\n",
      "C:\\Users\\carlo\\AppData\\Local\\Temp\\ipykernel_17328\\3488944609.py:46: FutureWarning: The frame.append method is deprecated and will be removed from pandas in a future version. Use pandas.concat instead.\n",
      "  df = df.append(\n"
     ]
    },
    {
     "name": "stdout",
     "output_type": "stream",
     "text": [
      "6no es issue\n"
     ]
    },
    {
     "name": "stderr",
     "output_type": "stream",
     "text": [
      "C:\\Users\\carlo\\AppData\\Local\\Temp\\ipykernel_17328\\3488944609.py:46: FutureWarning: The frame.append method is deprecated and will be removed from pandas in a future version. Use pandas.concat instead.\n",
      "  df = df.append(\n"
     ]
    },
    {
     "name": "stdout",
     "output_type": "stream",
     "text": [
      "8no es issue\n",
      "9no es issue\n",
      "10no es issue\n"
     ]
    }
   ],
   "source": [
    "from bs4 import BeautifulSoup\n",
    "import pandas as pd\n",
    "import re\n",
    "import requests\n",
    "import string\n",
    "\n",
    "# número de issue\n",
    "issue_range = 32\n",
    "\n",
    "# definición del DataFrame\n",
    "columns = [\"issue\", \"author\", \"state\", \"assignees\"]\n",
    "df = pd.DataFrame(columns=columns)\n",
    "\n",
    "for numero_issue in range(1,issue_range+1):\n",
    "    # url del issue\n",
    "    url_name = \"https://github.com/pescap/WebScrapingMDS/issues/\" + str(numero_issue)\n",
    "\n",
    "    # Recuperar el html\n",
    "    url = requests.get(url_name)  \n",
    "    \n",
    "    existe = buscar_issues_clase(url.content, url_name)\n",
    "    \n",
    "    if (len(existe)>0):  \n",
    "        soup = BeautifulSoup(url.text, \"html.parser\")\n",
    "        state = \"open\"\n",
    "        # if encuentro un banner de estado cerrado\n",
    "        #   state = \"closed\"\n",
    "\n",
    "        if soup.find(\"span\", attrs={\"title\": \"Status: Closed\"}):\n",
    "            state = \"closed\"\n",
    "\n",
    "        author = soup.find(\"a\", attrs={\"class\": \"author text-bold Link--secondary\"}).get_text()\n",
    "        assignees = (\n",
    "            soup.find(\"span\", attrs={\"class\": \"css-truncate js-issue-assignees\"})\n",
    "            .get_text()\n",
    "            .replace(\"\\n\", \"\")\n",
    "            .split()\n",
    "        )\n",
    "\n",
    "        if assignees == [\"No\", \"one\", \"assigned\"]:\n",
    "            assignees = [\"No one assigned\"]\n",
    "\n",
    "        #print(issue, author, state, assignees)\n",
    "\n",
    "        for l in range(len(assignees)):\n",
    "            df = df.append(\n",
    "                {\"issue\": issue, \"author\": author, \"state\": state, \"assignees\": assignees[l]},\n",
    "                ignore_index=True,\n",
    "            )\n",
    "    else:\n",
    "        print(str(numero_issue)+ \" no es issue\")\n"
   ]
  },
  {
   "cell_type": "code",
   "execution_count": 43,
   "id": "b2a1e8d4-7c8c-4637-adb0-9c84864b6853",
   "metadata": {},
   "outputs": [
    {
     "data": {
      "text/plain": [
       "issue        16\n",
       "author       16\n",
       "state        16\n",
       "assignees    16\n",
       "dtype: int64"
      ]
     },
     "execution_count": 43,
     "metadata": {},
     "output_type": "execute_result"
    }
   ],
   "source": [
    "df.count()"
   ]
  },
  {
   "cell_type": "code",
   "execution_count": null,
   "id": "9eeeaa12-1aff-41e7-8588-9ef2d1d14abc",
   "metadata": {},
   "outputs": [],
   "source": []
  }
 ],
 "metadata": {
  "kernelspec": {
   "display_name": "Python 3 (ipykernel)",
   "language": "python",
   "name": "python3"
  },
  "language_info": {
   "codemirror_mode": {
    "name": "ipython",
    "version": 3
   },
   "file_extension": ".py",
   "mimetype": "text/x-python",
   "name": "python",
   "nbconvert_exporter": "python",
   "pygments_lexer": "ipython3",
   "version": "3.9.12"
  }
 },
 "nbformat": 4,
 "nbformat_minor": 5
}
